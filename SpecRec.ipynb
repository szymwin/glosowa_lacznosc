{
 "cells": [
  {
   "cell_type": "code",
   "execution_count": 155,
   "metadata": {},
   "outputs": [],
   "source": [
    "from comet_ml import Experiment\n",
    "####"
   ]
  },
  {
   "cell_type": "code",
   "execution_count": 156,
   "metadata": {},
   "outputs": [],
   "source": [
    "import IPython.display as ipd\n",
    "import numpy as np\n",
    "import pandas as pd\n",
    "import librosa\n",
    "import matplotlib.pyplot as plt\n",
    "from scipy.io import wavfile as wav\n",
    "from sklearn import metrics \n",
    "from sklearn.preprocessing import LabelEncoder\n",
    "from sklearn.model_selection import train_test_split \n",
    "from tensorflow.keras.models import Sequential\n",
    "from tensorflow.keras.layers import Dense, Dropout, Activation\n",
    "from tensorflow.keras.optimizers import Adam\n",
    "from tensorflow.keras.utils import to_categorical\n",
    "from tensorflow.keras.callbacks import ModelCheckpoint\n",
    "import certifi\n",
    "import os"
   ]
  },
  {
   "cell_type": "code",
   "execution_count": 157,
   "metadata": {},
   "outputs": [
    {
     "name": "stderr",
     "output_type": "stream",
     "text": [
      "COMET INFO: ---------------------------\n",
      "COMET INFO: Comet.ml Experiment Summary\n",
      "COMET INFO: ---------------------------\n",
      "COMET INFO:   Data:\n",
      "COMET INFO:     display_summary_level : 1\n",
      "COMET INFO:     url                   : https://www.comet.ml/typerw/specrec/0a1c680dc3f143029886b694961818f6\n",
      "COMET INFO:   Uploads:\n",
      "COMET INFO:     environment details : 1\n",
      "COMET INFO:     filename            : 1\n",
      "COMET INFO:     installed packages  : 1\n",
      "COMET INFO: ---------------------------\n",
      "COMET ERROR: Error sending notification, make sure you have opted-in for notifications\n",
      "COMET ERROR: Failed to report experiment status\n",
      "COMET INFO: Experiment is live on comet.ml https://www.comet.ml/typerw/specrec/19a8cb8c0d694930a6ba5f9f587db1f9\n",
      "\n"
     ]
    }
   ],
   "source": [
    "experiment = Experiment(api_key = \"dyv0D7GcXUxTpKqVkzCY3qJwb\",\n",
    "                        project_name=\"SpecRec\", log_code=True)"
   ]
  },
  {
   "cell_type": "code",
   "execution_count": 158,
   "metadata": {},
   "outputs": [],
   "source": [
    "labels = ['drzwi', 'garaz', 'okno', 'otworz', 'zamknij']\n",
    "PATH = \"./nagrania/\""
   ]
  },
  {
   "cell_type": "code",
   "execution_count": 159,
   "metadata": {},
   "outputs": [],
   "source": [
    "def load_files(path, labels):\n",
    "    # write the complete file loading function here, this will return\n",
    "    # a dataframe having files and labels\n",
    "    # loading the files\n",
    "    train_labels = os.listdir(PATH)\n",
    "\n",
    "    labels_to_keep = labels\n",
    "\n",
    "    train_file_labels = dict()\n",
    "    \n",
    "    for label in train_labels:\n",
    "        if label == '.DS_Store':\n",
    "            pass\n",
    "        else:\n",
    "            files = os.listdir(PATH + '/' + label)\n",
    "            for f in files:\n",
    "                if f == '.DS_Store':\n",
    "                    pass\n",
    "                else:\n",
    "                    train_file_labels[label + '/' + f] = label\n",
    "\n",
    "    train = pd.DataFrame.from_dict(train_file_labels, orient='index')\n",
    "    train = train.reset_index(drop=False)\n",
    "    train = train.rename(columns={'index': 'file', 0: 'folder'})\n",
    "    train = train[['folder', 'file']]\n",
    "    train = train.sort_values('file')\n",
    "    train = train.reset_index(drop=True)\n",
    "\n",
    "    def remove_label_from_file(label, fname):\n",
    "        return path + label + '/' + fname[len(label) + 1:]\n",
    "\n",
    "    train['file'] = train.apply(lambda x: remove_label_from_file(*x), axis=1)\n",
    "    train['label'] = train['folder'].apply(lambda x: x if x in labels_to_keep else 'unknown')\n",
    "\n",
    "    labels_to_keep.append('unknown')\n",
    "     \n",
    "    return train, labels_to_keep"
   ]
  },
  {
   "cell_type": "code",
   "execution_count": 160,
   "metadata": {},
   "outputs": [],
   "source": [
    "train_labels = os.listdir(PATH)\n",
    "train, labels_to_keep = load_files(PATH, labels)"
   ]
  },
  {
   "cell_type": "code",
   "execution_count": 161,
   "metadata": {},
   "outputs": [
    {
     "data": {
      "text/html": [
       "<div>\n",
       "<style scoped>\n",
       "    .dataframe tbody tr th:only-of-type {\n",
       "        vertical-align: middle;\n",
       "    }\n",
       "\n",
       "    .dataframe tbody tr th {\n",
       "        vertical-align: top;\n",
       "    }\n",
       "\n",
       "    .dataframe thead th {\n",
       "        text-align: right;\n",
       "    }\n",
       "</style>\n",
       "<table border=\"1\" class=\"dataframe\">\n",
       "  <thead>\n",
       "    <tr style=\"text-align: right;\">\n",
       "      <th></th>\n",
       "      <th>folder</th>\n",
       "      <th>file</th>\n",
       "      <th>label</th>\n",
       "    </tr>\n",
       "  </thead>\n",
       "  <tbody>\n",
       "    <tr>\n",
       "      <th>32</th>\n",
       "      <td>okno</td>\n",
       "      <td>./nagrania/okno/Okno 19-1.wav</td>\n",
       "      <td>okno</td>\n",
       "    </tr>\n",
       "    <tr>\n",
       "      <th>33</th>\n",
       "      <td>okno</td>\n",
       "      <td>./nagrania/okno/Okno 19-2.wav</td>\n",
       "      <td>okno</td>\n",
       "    </tr>\n",
       "    <tr>\n",
       "      <th>34</th>\n",
       "      <td>okno</td>\n",
       "      <td>./nagrania/okno/Okno 19-3.wav</td>\n",
       "      <td>okno</td>\n",
       "    </tr>\n",
       "    <tr>\n",
       "      <th>35</th>\n",
       "      <td>okno</td>\n",
       "      <td>./nagrania/okno/Okno 19-4.wav</td>\n",
       "      <td>okno</td>\n",
       "    </tr>\n",
       "    <tr>\n",
       "      <th>36</th>\n",
       "      <td>okno</td>\n",
       "      <td>./nagrania/okno/Okno 22-1.wav</td>\n",
       "      <td>okno</td>\n",
       "    </tr>\n",
       "    <tr>\n",
       "      <th>37</th>\n",
       "      <td>okno</td>\n",
       "      <td>./nagrania/okno/Okno 22-2.wav</td>\n",
       "      <td>okno</td>\n",
       "    </tr>\n",
       "    <tr>\n",
       "      <th>38</th>\n",
       "      <td>okno</td>\n",
       "      <td>./nagrania/okno/Okno 22-3.wav</td>\n",
       "      <td>okno</td>\n",
       "    </tr>\n",
       "    <tr>\n",
       "      <th>39</th>\n",
       "      <td>okno</td>\n",
       "      <td>./nagrania/okno/Okno 22-4.wav</td>\n",
       "      <td>okno</td>\n",
       "    </tr>\n",
       "    <tr>\n",
       "      <th>40</th>\n",
       "      <td>okno</td>\n",
       "      <td>./nagrania/okno/Okno 23-1.wav</td>\n",
       "      <td>okno</td>\n",
       "    </tr>\n",
       "    <tr>\n",
       "      <th>41</th>\n",
       "      <td>okno</td>\n",
       "      <td>./nagrania/okno/Okno 23-2.wav</td>\n",
       "      <td>okno</td>\n",
       "    </tr>\n",
       "    <tr>\n",
       "      <th>42</th>\n",
       "      <td>okno</td>\n",
       "      <td>./nagrania/okno/Okno 23-3.wav</td>\n",
       "      <td>okno</td>\n",
       "    </tr>\n",
       "    <tr>\n",
       "      <th>43</th>\n",
       "      <td>okno</td>\n",
       "      <td>./nagrania/okno/Okno 23-4.wav</td>\n",
       "      <td>okno</td>\n",
       "    </tr>\n",
       "    <tr>\n",
       "      <th>44</th>\n",
       "      <td>okno</td>\n",
       "      <td>./nagrania/okno/Okno 7-1.wav</td>\n",
       "      <td>okno</td>\n",
       "    </tr>\n",
       "    <tr>\n",
       "      <th>45</th>\n",
       "      <td>okno</td>\n",
       "      <td>./nagrania/okno/Okno 7-2.wav</td>\n",
       "      <td>okno</td>\n",
       "    </tr>\n",
       "    <tr>\n",
       "      <th>46</th>\n",
       "      <td>okno</td>\n",
       "      <td>./nagrania/okno/Okno 7-3.wav</td>\n",
       "      <td>okno</td>\n",
       "    </tr>\n",
       "    <tr>\n",
       "      <th>47</th>\n",
       "      <td>okno</td>\n",
       "      <td>./nagrania/okno/Okno 7-4.wav</td>\n",
       "      <td>okno</td>\n",
       "    </tr>\n",
       "  </tbody>\n",
       "</table>\n",
       "</div>"
      ],
      "text/plain": [
       "   folder                           file label\n",
       "32   okno  ./nagrania/okno/Okno 19-1.wav  okno\n",
       "33   okno  ./nagrania/okno/Okno 19-2.wav  okno\n",
       "34   okno  ./nagrania/okno/Okno 19-3.wav  okno\n",
       "35   okno  ./nagrania/okno/Okno 19-4.wav  okno\n",
       "36   okno  ./nagrania/okno/Okno 22-1.wav  okno\n",
       "37   okno  ./nagrania/okno/Okno 22-2.wav  okno\n",
       "38   okno  ./nagrania/okno/Okno 22-3.wav  okno\n",
       "39   okno  ./nagrania/okno/Okno 22-4.wav  okno\n",
       "40   okno  ./nagrania/okno/Okno 23-1.wav  okno\n",
       "41   okno  ./nagrania/okno/Okno 23-2.wav  okno\n",
       "42   okno  ./nagrania/okno/Okno 23-3.wav  okno\n",
       "43   okno  ./nagrania/okno/Okno 23-4.wav  okno\n",
       "44   okno   ./nagrania/okno/Okno 7-1.wav  okno\n",
       "45   okno   ./nagrania/okno/Okno 7-2.wav  okno\n",
       "46   okno   ./nagrania/okno/Okno 7-3.wav  okno\n",
       "47   okno   ./nagrania/okno/Okno 7-4.wav  okno"
      ]
     },
     "execution_count": 161,
     "metadata": {},
     "output_type": "execute_result"
    }
   ],
   "source": [
    "train[train.label =='okno']"
   ]
  },
  {
   "cell_type": "code",
   "execution_count": 162,
   "metadata": {},
   "outputs": [],
   "source": [
    "for i in range(train.shape[0]):\n",
    "    experiment.log_audio(train.file[i], metadata = {'name': train.label[i]})"
   ]
  },
  {
   "cell_type": "code",
   "execution_count": 163,
   "metadata": {},
   "outputs": [
    {
     "name": "stdout",
     "output_type": "stream",
     "text": [
      "Original sample rate: 48000\n",
      "Librosa sample rate: 22050\n"
     ]
    }
   ],
   "source": [
    "fn = train.file[i]\n",
    "librosa_audio, librosa_sample_rate = librosa.load(fn)\n",
    "scipy_sample_rate, scipy_audio = wav.read(fn)\n",
    "print(\"Original sample rate: {}\".format(scipy_sample_rate))\n",
    "print(\"Librosa sample rate: {}\".format(librosa_sample_rate))"
   ]
  },
  {
   "cell_type": "code",
   "execution_count": 164,
   "metadata": {},
   "outputs": [
    {
     "name": "stdout",
     "output_type": "stream",
     "text": [
      "Original audio file min~max range: -21325 to 21750\n",
      "Librosa audio file min~max range: -0.65 to -0.65\n"
     ]
    }
   ],
   "source": [
    "print('Original audio file min~max range: {} to {}'.format(np.min(scipy_audio), np.max(scipy_audio)))\n",
    "print('Librosa audio file min~max range: {0:.2f} to {0:.2f}'.format(np.min(librosa_audio), np.max(librosa_audio)))"
   ]
  },
  {
   "cell_type": "code",
   "execution_count": 165,
   "metadata": {},
   "outputs": [
    {
     "data": {
      "text/plain": [
       "{'web': 'https://www.comet.ml/api/image/download?imageId=1700f1791664464dae8e3d9decca39a6&experimentKey=19a8cb8c0d694930a6ba5f9f587db1f9',\n",
       " 'api': 'https://www.comet.ml/api/rest/v1/image/get-image?imageId=1700f1791664464dae8e3d9decca39a6&experimentKey=19a8cb8c0d694930a6ba5f9f587db1f9',\n",
       " 'imageId': '1700f1791664464dae8e3d9decca39a6'}"
      ]
     },
     "execution_count": 165,
     "metadata": {},
     "output_type": "execute_result"
    },
    {
     "data": {
      "image/png": "[encoded data removed]",
      "text/plain": [
       "<Figure size 864x288 with 1 Axes>"
      ]
     },
     "metadata": {
      "needs_background": "light"
     },
     "output_type": "display_data"
    }
   ],
   "source": [
    "plt.figure(figsize=(12, 4))\n",
    "plt.plot(scipy_audio)\n",
    "plt.savefig('original_audio.png')\n",
    "experiment.log_image('original_audio.png')"
   ]
  },
  {
   "cell_type": "code",
   "execution_count": 166,
   "metadata": {},
   "outputs": [
    {
     "data": {
      "text/plain": [
       "{'web': 'https://www.comet.ml/api/image/download?imageId=99727b050b1e4c6b858abacebb2ec226&experimentKey=19a8cb8c0d694930a6ba5f9f587db1f9',\n",
       " 'api': 'https://www.comet.ml/api/rest/v1/image/get-image?imageId=99727b050b1e4c6b858abacebb2ec226&experimentKey=19a8cb8c0d694930a6ba5f9f587db1f9',\n",
       " 'imageId': '99727b050b1e4c6b858abacebb2ec226'}"
      ]
     },
     "execution_count": 166,
     "metadata": {},
     "output_type": "execute_result"
    },
    {
     "data": {
      "image/png": "[encoded data removed]",
      "text/plain": [
       "<Figure size 864x288 with 1 Axes>"
      ]
     },
     "metadata": {
      "needs_background": "light"
     },
     "output_type": "display_data"
    }
   ],
   "source": [
    "# Librosa: mono track\n",
    "plt.figure(figsize=(12,4))\n",
    "plt.plot(librosa_audio)\n",
    "plt.savefig('librosa_audio.png')\n",
    "experiment.log_image('librosa_audio.png')"
   ]
  },
  {
   "cell_type": "code",
   "execution_count": 167,
   "metadata": {},
   "outputs": [],
   "source": [
    "mfccs = librosa.feature.mfcc(y=librosa_audio, sr=librosa_sample_rate, n_mfcc = 40)"
   ]
  },
  {
   "cell_type": "code",
   "execution_count": 168,
   "metadata": {},
   "outputs": [
    {
     "name": "stdout",
     "output_type": "stream",
     "text": [
      "(40, 34)\n"
     ]
    }
   ],
   "source": [
    "print(mfccs.shape)"
   ]
  },
  {
   "cell_type": "code",
   "execution_count": 169,
   "metadata": {},
   "outputs": [],
   "source": [
    "def extract_features(file_name):\n",
    "    audio, sample_rate = librosa.load(file_name, res_type='kaiser_fast') \n",
    "    mfccs = librosa.feature.mfcc(y=audio, sr=sample_rate, n_mfcc=40)\n",
    "    mfccs_processed = np.mean(mfccs.T,axis=0)\n",
    "     \n",
    "    return mfccs_processed"
   ]
  },
  {
   "cell_type": "code",
   "execution_count": 170,
   "metadata": {},
   "outputs": [],
   "source": [
    "features = []\n",
    "# Iterate through each sound file and extract the features \n",
    "for index, row in train.iterrows():\n",
    "    \n",
    "    file_name = row['file']\n",
    "    class_label = row[\"label\"]\n",
    "    data = extract_features(file_name)\n",
    "    \n",
    "    features.append([data, class_label])\n",
    "# Convert into a Panda dataframe \n",
    "    featuresdf = pd.DataFrame(features, columns=['feature','class_label'])"
   ]
  },
  {
   "cell_type": "code",
   "execution_count": 171,
   "metadata": {},
   "outputs": [
    {
     "data": {
      "text/html": [
       "<div>\n",
       "<style scoped>\n",
       "    .dataframe tbody tr th:only-of-type {\n",
       "        vertical-align: middle;\n",
       "    }\n",
       "\n",
       "    .dataframe tbody tr th {\n",
       "        vertical-align: top;\n",
       "    }\n",
       "\n",
       "    .dataframe thead th {\n",
       "        text-align: right;\n",
       "    }\n",
       "</style>\n",
       "<table border=\"1\" class=\"dataframe\">\n",
       "  <thead>\n",
       "    <tr style=\"text-align: right;\">\n",
       "      <th></th>\n",
       "      <th>feature</th>\n",
       "      <th>class_label</th>\n",
       "    </tr>\n",
       "  </thead>\n",
       "  <tbody>\n",
       "    <tr>\n",
       "      <th>0</th>\n",
       "      <td>[-323.64352, 78.34826, -28.102926, 66.6308, 1....</td>\n",
       "      <td>drzwi</td>\n",
       "    </tr>\n",
       "    <tr>\n",
       "      <th>1</th>\n",
       "      <td>[-315.9747, 85.08107, -27.019323, 60.881153, 0...</td>\n",
       "      <td>drzwi</td>\n",
       "    </tr>\n",
       "    <tr>\n",
       "      <th>2</th>\n",
       "      <td>[-315.72263, 84.4411, -26.812078, 61.01948, 0....</td>\n",
       "      <td>drzwi</td>\n",
       "    </tr>\n",
       "    <tr>\n",
       "      <th>3</th>\n",
       "      <td>[-282.00342, 62.84759, -52.50572, 73.47285, 20...</td>\n",
       "      <td>drzwi</td>\n",
       "    </tr>\n",
       "    <tr>\n",
       "      <th>4</th>\n",
       "      <td>[-497.7464, 69.746574, 7.423347, 35.55713, -14...</td>\n",
       "      <td>drzwi</td>\n",
       "    </tr>\n",
       "    <tr>\n",
       "      <th>...</th>\n",
       "      <td>...</td>\n",
       "      <td>...</td>\n",
       "    </tr>\n",
       "    <tr>\n",
       "      <th>75</th>\n",
       "      <td>[-341.5836, 112.8678, -4.8976617, 22.871546, -...</td>\n",
       "      <td>zamknij</td>\n",
       "    </tr>\n",
       "    <tr>\n",
       "      <th>76</th>\n",
       "      <td>[-317.24463, 102.52461, -12.1172695, 27.954376...</td>\n",
       "      <td>zamknij</td>\n",
       "    </tr>\n",
       "    <tr>\n",
       "      <th>77</th>\n",
       "      <td>[-290.26773, 133.23805, -22.49523, 22.46734, -...</td>\n",
       "      <td>zamknij</td>\n",
       "    </tr>\n",
       "    <tr>\n",
       "      <th>78</th>\n",
       "      <td>[-342.12854, 120.12017, -19.254522, 18.76213, ...</td>\n",
       "      <td>zamknij</td>\n",
       "    </tr>\n",
       "    <tr>\n",
       "      <th>79</th>\n",
       "      <td>[-308.98138, 133.24763, -11.17156, 36.098343, ...</td>\n",
       "      <td>zamknij</td>\n",
       "    </tr>\n",
       "  </tbody>\n",
       "</table>\n",
       "<p>80 rows × 2 columns</p>\n",
       "</div>"
      ],
      "text/plain": [
       "                                              feature class_label\n",
       "0   [-323.64352, 78.34826, -28.102926, 66.6308, 1....       drzwi\n",
       "1   [-315.9747, 85.08107, -27.019323, 60.881153, 0...       drzwi\n",
       "2   [-315.72263, 84.4411, -26.812078, 61.01948, 0....       drzwi\n",
       "3   [-282.00342, 62.84759, -52.50572, 73.47285, 20...       drzwi\n",
       "4   [-497.7464, 69.746574, 7.423347, 35.55713, -14...       drzwi\n",
       "..                                                ...         ...\n",
       "75  [-341.5836, 112.8678, -4.8976617, 22.871546, -...     zamknij\n",
       "76  [-317.24463, 102.52461, -12.1172695, 27.954376...     zamknij\n",
       "77  [-290.26773, 133.23805, -22.49523, 22.46734, -...     zamknij\n",
       "78  [-342.12854, 120.12017, -19.254522, 18.76213, ...     zamknij\n",
       "79  [-308.98138, 133.24763, -11.17156, 36.098343, ...     zamknij\n",
       "\n",
       "[80 rows x 2 columns]"
      ]
     },
     "execution_count": 171,
     "metadata": {},
     "output_type": "execute_result"
    }
   ],
   "source": [
    "featuresdf"
   ]
  },
  {
   "cell_type": "code",
   "execution_count": 172,
   "metadata": {},
   "outputs": [],
   "source": [
    "from sklearn.preprocessing import LabelEncoder\n",
    "from tensorflow.keras.utils import to_categorical\n",
    "# Convert features and corresponding classification labels into numpy arrays\n",
    "X = np.array(featuresdf.feature.tolist())\n",
    "y = np.array(featuresdf.class_label.tolist())\n",
    "# Encode the classification labels\n",
    "le = LabelEncoder()\n",
    "yy = to_categorical(le.fit_transform(y))"
   ]
  },
  {
   "cell_type": "code",
   "execution_count": 173,
   "metadata": {},
   "outputs": [],
   "source": [
    "# split the dataset \n",
    "from sklearn.model_selection import train_test_split \n",
    "x_train, x_test, y_train, y_test = train_test_split(X, yy, test_size=0.2, random_state = 127)"
   ]
  },
  {
   "cell_type": "code",
   "execution_count": 174,
   "metadata": {},
   "outputs": [],
   "source": [
    "num_labels = yy.shape[1]\n",
    "filter_size = 2\n",
    "model = Sequential()\n",
    "model.add(Dense(256, input_shape=(40,)))\n",
    "model.add(Activation('relu'))\n",
    "model.add(Dropout(0.5))\n",
    "model.add(Dense(256))\n",
    "model.add(Activation('relu'))\n",
    "model.add(Dropout(0.5))\n",
    "model.add(Dense(num_labels))\n",
    "model.add(Activation('softmax'))\n",
    "model.compile(loss='categorical_crossentropy', metrics=['accuracy'], optimizer='adam')"
   ]
  },
  {
   "cell_type": "code",
   "execution_count": 175,
   "metadata": {},
   "outputs": [
    {
     "name": "stdout",
     "output_type": "stream",
     "text": [
      "Model: \"sequential_2\"\n",
      "_________________________________________________________________\n",
      "Layer (type)                 Output Shape              Param #   \n",
      "=================================================================\n",
      "dense_6 (Dense)              (None, 256)               10496     \n",
      "_________________________________________________________________\n",
      "activation_6 (Activation)    (None, 256)               0         \n",
      "_________________________________________________________________\n",
      "dropout_4 (Dropout)          (None, 256)               0         \n",
      "_________________________________________________________________\n",
      "dense_7 (Dense)              (None, 256)               65792     \n",
      "_________________________________________________________________\n",
      "activation_7 (Activation)    (None, 256)               0         \n",
      "_________________________________________________________________\n",
      "dropout_5 (Dropout)          (None, 256)               0         \n",
      "_________________________________________________________________\n",
      "dense_8 (Dense)              (None, 5)                 1285      \n",
      "_________________________________________________________________\n",
      "activation_8 (Activation)    (None, 5)                 0         \n",
      "=================================================================\n",
      "Total params: 77,573\n",
      "Trainable params: 77,573\n",
      "Non-trainable params: 0\n",
      "_________________________________________________________________\n"
     ]
    }
   ],
   "source": [
    "# Display model architecture summary \n",
    "model.summary()\n",
    "# Calculate pre-training accuracy \n",
    "score = model.evaluate(x_test, y_test, verbose=0)\n",
    "accuracy = 100*score[1]"
   ]
  },
  {
   "cell_type": "code",
   "execution_count": 176,
   "metadata": {},
   "outputs": [
    {
     "name": "stdout",
     "output_type": "stream",
     "text": [
      "Pre-training accuracy: 25.0000%\n"
     ]
    }
   ],
   "source": [
    "print(\"Pre-training accuracy: %.4f%%\" % accuracy)"
   ]
  },
  {
   "cell_type": "code",
   "execution_count": 177,
   "metadata": {},
   "outputs": [
    {
     "name": "stdout",
     "output_type": "stream",
     "text": [
      "Epoch 1/100\n",
      "2/2 [==============================] - 0s 37ms/step - loss: 37.3009 - accuracy: 0.2031 - val_loss: 15.8753 - val_accuracy: 0.2500\n",
      "Epoch 2/100\n",
      "2/2 [==============================] - 0s 32ms/step - loss: 35.6104 - accuracy: 0.1719 - val_loss: 13.0400 - val_accuracy: 0.1875\n",
      "Epoch 3/100\n",
      "2/2 [==============================] - 0s 37ms/step - loss: 38.2933 - accuracy: 0.1406 - val_loss: 9.0888 - val_accuracy: 0.1875\n",
      "Epoch 4/100\n",
      "2/2 [==============================] - 0s 30ms/step - loss: 33.6075 - accuracy: 0.1406 - val_loss: 5.4695 - val_accuracy: 0.5000\n",
      "Epoch 5/100\n",
      "2/2 [==============================] - 0s 30ms/step - loss: 32.3608 - accuracy: 0.1562 - val_loss: 7.4926 - val_accuracy: 0.3125\n",
      "Epoch 6/100\n",
      "2/2 [==============================] - 0s 44ms/step - loss: 30.7058 - accuracy: 0.2656 - val_loss: 7.2953 - val_accuracy: 0.2500\n",
      "Epoch 7/100\n",
      "2/2 [==============================] - 0s 35ms/step - loss: 20.6811 - accuracy: 0.2344 - val_loss: 5.6464 - val_accuracy: 0.3125\n",
      "Epoch 8/100\n",
      "2/2 [==============================] - 0s 36ms/step - loss: 23.1644 - accuracy: 0.2656 - val_loss: 3.8352 - val_accuracy: 0.5000\n",
      "Epoch 9/100\n",
      "2/2 [==============================] - 0s 50ms/step - loss: 26.1983 - accuracy: 0.2031 - val_loss: 4.2616 - val_accuracy: 0.3125\n",
      "Epoch 10/100\n",
      "2/2 [==============================] - 0s 30ms/step - loss: 20.6462 - accuracy: 0.2656 - val_loss: 2.1922 - val_accuracy: 0.5000\n",
      "Epoch 11/100\n",
      "2/2 [==============================] - 0s 38ms/step - loss: 23.4616 - accuracy: 0.1875 - val_loss: 1.0915 - val_accuracy: 0.6875\n",
      "Epoch 12/100\n",
      "2/2 [==============================] - 0s 45ms/step - loss: 20.2307 - accuracy: 0.3750 - val_loss: 1.2645 - val_accuracy: 0.5625\n",
      "Epoch 13/100\n",
      "2/2 [==============================] - 0s 46ms/step - loss: 14.5708 - accuracy: 0.4375 - val_loss: 2.1865 - val_accuracy: 0.4375\n",
      "Epoch 14/100\n",
      "2/2 [==============================] - 0s 42ms/step - loss: 15.5767 - accuracy: 0.3438 - val_loss: 3.0043 - val_accuracy: 0.4375\n",
      "Epoch 15/100\n",
      "2/2 [==============================] - 0s 40ms/step - loss: 16.0851 - accuracy: 0.2812 - val_loss: 3.1177 - val_accuracy: 0.4375\n",
      "Epoch 16/100\n",
      "2/2 [==============================] - 0s 44ms/step - loss: 15.7737 - accuracy: 0.3750 - val_loss: 2.2931 - val_accuracy: 0.5000\n",
      "Epoch 17/100\n",
      "2/2 [==============================] - 0s 41ms/step - loss: 12.6066 - accuracy: 0.3594 - val_loss: 1.1274 - val_accuracy: 0.6250\n",
      "Epoch 18/100\n",
      "2/2 [==============================] - 0s 41ms/step - loss: 11.3542 - accuracy: 0.4531 - val_loss: 0.8792 - val_accuracy: 0.8125\n",
      "Epoch 19/100\n",
      "2/2 [==============================] - 0s 54ms/step - loss: 10.5901 - accuracy: 0.3438 - val_loss: 1.0502 - val_accuracy: 0.8125\n",
      "Epoch 20/100\n",
      "2/2 [==============================] - 0s 43ms/step - loss: 12.3956 - accuracy: 0.2812 - val_loss: 1.1705 - val_accuracy: 0.8125\n",
      "Epoch 21/100\n",
      "2/2 [==============================] - 0s 55ms/step - loss: 13.0855 - accuracy: 0.3594 - val_loss: 1.1507 - val_accuracy: 0.8125\n",
      "Epoch 22/100\n",
      "2/2 [==============================] - 0s 38ms/step - loss: 9.4989 - accuracy: 0.4062 - val_loss: 1.4500 - val_accuracy: 0.6875\n",
      "Epoch 23/100\n",
      "2/2 [==============================] - 0s 56ms/step - loss: 11.0409 - accuracy: 0.4688 - val_loss: 1.6224 - val_accuracy: 0.6875\n",
      "Epoch 24/100\n",
      "2/2 [==============================] - 0s 41ms/step - loss: 9.7754 - accuracy: 0.3750 - val_loss: 1.5683 - val_accuracy: 0.6875\n",
      "Epoch 25/100\n",
      "2/2 [==============================] - 0s 36ms/step - loss: 8.8309 - accuracy: 0.3594 - val_loss: 1.3461 - val_accuracy: 0.6875\n",
      "Epoch 26/100\n",
      "2/2 [==============================] - 0s 49ms/step - loss: 8.3485 - accuracy: 0.4531 - val_loss: 1.1899 - val_accuracy: 0.6875\n",
      "Epoch 27/100\n",
      "2/2 [==============================] - 0s 57ms/step - loss: 7.3708 - accuracy: 0.5156 - val_loss: 1.2296 - val_accuracy: 0.7500\n",
      "Epoch 28/100\n",
      "2/2 [==============================] - 0s 40ms/step - loss: 7.2132 - accuracy: 0.5312 - val_loss: 1.3039 - val_accuracy: 0.7500\n",
      "Epoch 29/100\n",
      "2/2 [==============================] - 0s 44ms/step - loss: 7.3928 - accuracy: 0.4062 - val_loss: 1.2132 - val_accuracy: 0.7500\n",
      "Epoch 30/100\n",
      "2/2 [==============================] - 0s 30ms/step - loss: 6.6458 - accuracy: 0.4688 - val_loss: 1.2361 - val_accuracy: 0.7500\n",
      "Epoch 31/100\n",
      "2/2 [==============================] - 0s 38ms/step - loss: 5.1029 - accuracy: 0.5469 - val_loss: 1.2860 - val_accuracy: 0.7500\n",
      "Epoch 32/100\n",
      "2/2 [==============================] - 0s 41ms/step - loss: 6.4874 - accuracy: 0.4531 - val_loss: 1.3221 - val_accuracy: 0.6875\n",
      "Epoch 33/100\n",
      "2/2 [==============================] - 0s 34ms/step - loss: 6.2953 - accuracy: 0.5000 - val_loss: 1.3231 - val_accuracy: 0.6875\n",
      "Epoch 34/100\n",
      "2/2 [==============================] - 0s 36ms/step - loss: 6.6305 - accuracy: 0.3750 - val_loss: 1.2609 - val_accuracy: 0.6875\n",
      "Epoch 35/100\n",
      "2/2 [==============================] - 0s 38ms/step - loss: 4.7335 - accuracy: 0.5938 - val_loss: 1.2815 - val_accuracy: 0.6875\n",
      "Epoch 36/100\n",
      "2/2 [==============================] - 0s 42ms/step - loss: 5.9108 - accuracy: 0.4219 - val_loss: 1.1938 - val_accuracy: 0.6875\n",
      "Epoch 37/100\n",
      "2/2 [==============================] - 0s 32ms/step - loss: 7.0049 - accuracy: 0.4531 - val_loss: 1.0582 - val_accuracy: 0.6875\n",
      "Epoch 38/100\n",
      "2/2 [==============================] - 0s 34ms/step - loss: 5.1913 - accuracy: 0.5625 - val_loss: 0.8763 - val_accuracy: 0.7500\n",
      "Epoch 39/100\n",
      "2/2 [==============================] - 0s 28ms/step - loss: 4.7781 - accuracy: 0.5156 - val_loss: 0.7713 - val_accuracy: 0.7500\n",
      "Epoch 40/100\n",
      "2/2 [==============================] - 0s 33ms/step - loss: 4.7650 - accuracy: 0.5000 - val_loss: 0.7123 - val_accuracy: 0.8125\n",
      "Epoch 41/100\n",
      "2/2 [==============================] - 0s 49ms/step - loss: 3.4766 - accuracy: 0.5781 - val_loss: 0.7080 - val_accuracy: 0.8125\n",
      "Epoch 42/100\n",
      "2/2 [==============================] - 0s 48ms/step - loss: 4.4891 - accuracy: 0.4688 - val_loss: 0.7264 - val_accuracy: 0.7500\n",
      "Epoch 43/100\n",
      "2/2 [==============================] - 0s 33ms/step - loss: 4.5917 - accuracy: 0.5156 - val_loss: 0.8072 - val_accuracy: 0.6875\n",
      "Epoch 44/100\n",
      "2/2 [==============================] - 0s 39ms/step - loss: 4.6618 - accuracy: 0.5469 - val_loss: 0.8742 - val_accuracy: 0.6250\n",
      "Epoch 45/100\n",
      "2/2 [==============================] - 0s 43ms/step - loss: 4.0675 - accuracy: 0.6094 - val_loss: 0.8898 - val_accuracy: 0.6250\n",
      "Epoch 46/100\n",
      "2/2 [==============================] - 0s 60ms/step - loss: 5.4247 - accuracy: 0.5000 - val_loss: 0.9225 - val_accuracy: 0.6250\n",
      "Epoch 47/100\n",
      "2/2 [==============================] - 0s 32ms/step - loss: 4.6019 - accuracy: 0.5781 - val_loss: 0.9320 - val_accuracy: 0.6250\n",
      "Epoch 48/100\n",
      "2/2 [==============================] - 0s 34ms/step - loss: 3.4417 - accuracy: 0.6094 - val_loss: 0.9363 - val_accuracy: 0.6875\n",
      "Epoch 49/100\n",
      "2/2 [==============================] - 0s 47ms/step - loss: 4.5097 - accuracy: 0.5156 - val_loss: 0.9344 - val_accuracy: 0.6875\n",
      "Epoch 50/100\n",
      "2/2 [==============================] - ETA: 0s - loss: 1.1956 - accuracy: 0.75 - 0s 37ms/step - loss: 2.3199 - accuracy: 0.5938 - val_loss: 0.8996 - val_accuracy: 0.6875\n",
      "Epoch 51/100\n",
      "2/2 [==============================] - 0s 37ms/step - loss: 1.7875 - accuracy: 0.7344 - val_loss: 0.8639 - val_accuracy: 0.7500\n",
      "Epoch 52/100\n",
      "2/2 [==============================] - 0s 53ms/step - loss: 3.3717 - accuracy: 0.5625 - val_loss: 0.8254 - val_accuracy: 0.8125\n",
      "Epoch 53/100\n",
      "2/2 [==============================] - 0s 44ms/step - loss: 3.5764 - accuracy: 0.5312 - val_loss: 0.8220 - val_accuracy: 0.7500\n",
      "Epoch 54/100\n",
      "2/2 [==============================] - 0s 44ms/step - loss: 2.4602 - accuracy: 0.6250 - val_loss: 0.8290 - val_accuracy: 0.7500\n",
      "Epoch 55/100\n",
      "2/2 [==============================] - 0s 48ms/step - loss: 2.0908 - accuracy: 0.5938 - val_loss: 0.8559 - val_accuracy: 0.7500\n",
      "Epoch 56/100\n",
      "2/2 [==============================] - 0s 52ms/step - loss: 2.6458 - accuracy: 0.6094 - val_loss: 0.8948 - val_accuracy: 0.7500\n",
      "Epoch 57/100\n",
      "2/2 [==============================] - 0s 31ms/step - loss: 2.2697 - accuracy: 0.6406 - val_loss: 0.9604 - val_accuracy: 0.6875\n",
      "Epoch 58/100\n",
      "2/2 [==============================] - 0s 34ms/step - loss: 1.5247 - accuracy: 0.6094 - val_loss: 1.0055 - val_accuracy: 0.6250\n"
     ]
    },
    {
     "name": "stdout",
     "output_type": "stream",
     "text": [
      "Epoch 59/100\n",
      "2/2 [==============================] - 0s 36ms/step - loss: 3.0949 - accuracy: 0.6094 - val_loss: 1.0260 - val_accuracy: 0.6250\n",
      "Epoch 60/100\n",
      "2/2 [==============================] - 0s 51ms/step - loss: 2.7630 - accuracy: 0.5469 - val_loss: 1.0412 - val_accuracy: 0.6250\n",
      "Epoch 61/100\n",
      "2/2 [==============================] - 0s 74ms/step - loss: 2.3782 - accuracy: 0.6562 - val_loss: 1.0071 - val_accuracy: 0.6250\n",
      "Epoch 62/100\n",
      "2/2 [==============================] - 0s 40ms/step - loss: 2.4804 - accuracy: 0.6094 - val_loss: 0.9623 - val_accuracy: 0.6250\n",
      "Epoch 63/100\n",
      "2/2 [==============================] - 0s 38ms/step - loss: 2.1500 - accuracy: 0.6406 - val_loss: 0.9124 - val_accuracy: 0.6250\n",
      "Epoch 64/100\n",
      "2/2 [==============================] - 0s 49ms/step - loss: 2.7109 - accuracy: 0.6562 - val_loss: 0.8497 - val_accuracy: 0.6875\n",
      "Epoch 65/100\n",
      "2/2 [==============================] - 0s 36ms/step - loss: 3.2975 - accuracy: 0.5781 - val_loss: 0.7948 - val_accuracy: 0.7500\n",
      "Epoch 66/100\n",
      "2/2 [==============================] - 0s 37ms/step - loss: 2.6897 - accuracy: 0.6094 - val_loss: 0.7408 - val_accuracy: 0.7500\n",
      "Epoch 67/100\n",
      "2/2 [==============================] - 0s 61ms/step - loss: 2.1945 - accuracy: 0.5938 - val_loss: 0.7052 - val_accuracy: 0.7500\n",
      "Epoch 68/100\n",
      "2/2 [==============================] - 0s 43ms/step - loss: 1.7007 - accuracy: 0.7031 - val_loss: 0.6838 - val_accuracy: 0.7500\n",
      "Epoch 69/100\n",
      "2/2 [==============================] - 0s 38ms/step - loss: 1.9907 - accuracy: 0.6094 - val_loss: 0.6631 - val_accuracy: 0.7500\n",
      "Epoch 70/100\n",
      "2/2 [==============================] - 0s 35ms/step - loss: 2.4288 - accuracy: 0.5938 - val_loss: 0.6631 - val_accuracy: 0.7500\n",
      "Epoch 71/100\n",
      "2/2 [==============================] - 0s 43ms/step - loss: 2.2372 - accuracy: 0.6094 - val_loss: 0.6631 - val_accuracy: 0.7500\n",
      "Epoch 72/100\n",
      "2/2 [==============================] - 0s 39ms/step - loss: 1.9409 - accuracy: 0.6094 - val_loss: 0.6699 - val_accuracy: 0.7500\n",
      "Epoch 73/100\n",
      "2/2 [==============================] - 0s 35ms/step - loss: 1.7708 - accuracy: 0.6406 - val_loss: 0.6863 - val_accuracy: 0.7500\n",
      "Epoch 74/100\n",
      "2/2 [==============================] - 0s 36ms/step - loss: 1.9263 - accuracy: 0.6406 - val_loss: 0.7053 - val_accuracy: 0.6875\n",
      "Epoch 75/100\n",
      "2/2 [==============================] - 0s 40ms/step - loss: 1.3106 - accuracy: 0.7031 - val_loss: 0.7222 - val_accuracy: 0.6250\n",
      "Epoch 76/100\n",
      "2/2 [==============================] - 0s 45ms/step - loss: 1.5971 - accuracy: 0.6406 - val_loss: 0.7341 - val_accuracy: 0.6250\n",
      "Epoch 77/100\n",
      "2/2 [==============================] - 0s 34ms/step - loss: 1.5745 - accuracy: 0.7031 - val_loss: 0.7480 - val_accuracy: 0.6250\n",
      "Epoch 78/100\n",
      "2/2 [==============================] - 0s 40ms/step - loss: 2.0462 - accuracy: 0.6562 - val_loss: 0.7593 - val_accuracy: 0.6250\n",
      "Epoch 79/100\n",
      "2/2 [==============================] - 0s 32ms/step - loss: 2.0219 - accuracy: 0.7188 - val_loss: 0.7657 - val_accuracy: 0.6250\n",
      "Epoch 80/100\n",
      "2/2 [==============================] - 0s 31ms/step - loss: 1.7202 - accuracy: 0.7031 - val_loss: 0.7729 - val_accuracy: 0.6250\n",
      "Epoch 81/100\n",
      "2/2 [==============================] - 0s 32ms/step - loss: 1.4476 - accuracy: 0.7031 - val_loss: 0.7985 - val_accuracy: 0.6250\n",
      "Epoch 82/100\n",
      "2/2 [==============================] - 0s 34ms/step - loss: 1.7354 - accuracy: 0.6719 - val_loss: 0.8186 - val_accuracy: 0.6250\n",
      "Epoch 83/100\n",
      "2/2 [==============================] - 0s 31ms/step - loss: 1.6880 - accuracy: 0.6719 - val_loss: 0.8227 - val_accuracy: 0.6250\n",
      "Epoch 84/100\n",
      "2/2 [==============================] - 0s 39ms/step - loss: 1.9157 - accuracy: 0.6875 - val_loss: 0.8276 - val_accuracy: 0.6250\n",
      "Epoch 85/100\n",
      "2/2 [==============================] - 0s 38ms/step - loss: 1.3673 - accuracy: 0.7031 - val_loss: 0.8210 - val_accuracy: 0.6250\n",
      "Epoch 86/100\n",
      "2/2 [==============================] - 0s 45ms/step - loss: 1.3852 - accuracy: 0.7344 - val_loss: 0.8164 - val_accuracy: 0.6250\n",
      "Epoch 87/100\n",
      "2/2 [==============================] - 0s 53ms/step - loss: 2.0517 - accuracy: 0.5781 - val_loss: 0.8072 - val_accuracy: 0.7500\n",
      "Epoch 88/100\n",
      "2/2 [==============================] - 0s 40ms/step - loss: 1.2284 - accuracy: 0.7500 - val_loss: 0.7878 - val_accuracy: 0.7500\n",
      "Epoch 89/100\n",
      "2/2 [==============================] - 0s 42ms/step - loss: 1.7104 - accuracy: 0.7031 - val_loss: 0.7731 - val_accuracy: 0.7500\n",
      "Epoch 90/100\n",
      "2/2 [==============================] - 0s 42ms/step - loss: 1.5656 - accuracy: 0.7188 - val_loss: 0.7512 - val_accuracy: 0.7500\n",
      "Epoch 91/100\n",
      "2/2 [==============================] - 0s 34ms/step - loss: 1.3936 - accuracy: 0.6719 - val_loss: 0.7306 - val_accuracy: 0.7500\n",
      "Epoch 92/100\n",
      "2/2 [==============================] - 0s 37ms/step - loss: 1.7156 - accuracy: 0.7031 - val_loss: 0.7113 - val_accuracy: 0.7500\n",
      "Epoch 93/100\n",
      "2/2 [==============================] - 0s 34ms/step - loss: 1.6288 - accuracy: 0.6562 - val_loss: 0.6914 - val_accuracy: 0.7500\n",
      "Epoch 94/100\n",
      "2/2 [==============================] - ETA: 0s - loss: 1.2187 - accuracy: 0.75 - 0s 55ms/step - loss: 1.5505 - accuracy: 0.7188 - val_loss: 0.6768 - val_accuracy: 0.8125\n",
      "Epoch 95/100\n",
      "2/2 [==============================] - 0s 40ms/step - loss: 1.0925 - accuracy: 0.6875 - val_loss: 0.6630 - val_accuracy: 0.8125\n",
      "Epoch 96/100\n",
      "2/2 [==============================] - 0s 44ms/step - loss: 1.8519 - accuracy: 0.6875 - val_loss: 0.6551 - val_accuracy: 0.8125\n",
      "Epoch 97/100\n",
      "2/2 [==============================] - 0s 30ms/step - loss: 1.7312 - accuracy: 0.7188 - val_loss: 0.6492 - val_accuracy: 0.8750\n",
      "Epoch 98/100\n",
      "2/2 [==============================] - 0s 31ms/step - loss: 1.4289 - accuracy: 0.6562 - val_loss: 0.6505 - val_accuracy: 0.8125\n",
      "Epoch 99/100\n",
      "2/2 [==============================] - 0s 31ms/step - loss: 1.2006 - accuracy: 0.7188 - val_loss: 0.6508 - val_accuracy: 0.8125\n",
      "Epoch 100/100\n",
      "2/2 [==============================] - 0s 37ms/step - loss: 1.0122 - accuracy: 0.7656 - val_loss: 0.6423 - val_accuracy: 0.8125\n"
     ]
    },
    {
     "data": {
      "text/plain": [
       "<tensorflow.python.keras.callbacks.History at 0x146be1370>"
      ]
     },
     "execution_count": 177,
     "metadata": {},
     "output_type": "execute_result"
    }
   ],
   "source": [
    "from tensorflow.keras.callbacks import ModelCheckpoint \n",
    "from datetime import datetime \n",
    "num_epochs = 100\n",
    "num_batch_size = 32\n",
    "model.fit(x_train, y_train, batch_size=num_batch_size, epochs=num_epochs, validation_data=(x_test, y_test), verbose=1)"
   ]
  },
  {
   "cell_type": "code",
   "execution_count": 178,
   "metadata": {},
   "outputs": [
    {
     "name": "stdout",
     "output_type": "stream",
     "text": [
      "Training Accuracy: 87.50%\n",
      "Testing Accuracy: 81.25%\n"
     ]
    }
   ],
   "source": [
    "# Evaluating the model on the training and testing set\n",
    "score = model.evaluate(x_train, y_train, verbose=0)\n",
    "print(\"Training Accuracy: {0:.2%}\".format(score[1]))\n",
    "score = model.evaluate(x_test, y_test, verbose=0)\n",
    "print(\"Testing Accuracy: {0:.2%}\".format(score[1]))"
   ]
  },
  {
   "cell_type": "code",
   "execution_count": 180,
   "metadata": {},
   "outputs": [
    {
     "name": "stdout",
     "output_type": "stream",
     "text": [
      "./nagrania/drzwi/Drzwi 19-4.wav\n"
     ]
    },
    {
     "data": {
      "text/plain": [
       "'Checked file contains a word drzwi with 100.00% certain.'"
      ]
     },
     "execution_count": 180,
     "metadata": {},
     "output_type": "execute_result"
    }
   ],
   "source": [
    "feature = []\n",
    "file_to_check = train.file[3]\n",
    "print(file_to_check)\n",
    "feature.append(extract_features(file_to_check))\n",
    "tst = np.array(feature)\n",
    "prediction = model.predict(tst)\n",
    "\"Checked file contains a word {} with {:.2%} certain.\".format((le.inverse_transform(prediction.argmax(axis=-1))[0]), prediction[0,prediction.argmax(axis=-1)][0])  \n"
   ]
  },
  {
   "cell_type": "code",
   "execution_count": null,
   "metadata": {},
   "outputs": [],
   "source": []
  }
 ],
 "metadata": {
  "kernelspec": {
   "display_name": "Python 3",
   "language": "python",
   "name": "python3"
  },
  "language_info": {
   "codemirror_mode": {
    "name": "ipython",
    "version": 3
   },
   "file_extension": ".py",
   "mimetype": "text/x-python",
   "name": "python",
   "nbconvert_exporter": "python",
   "pygments_lexer": "ipython3",
   "version": "3.8.3"
  }
 },
 "nbformat": 4,
 "nbformat_minor": 4
}
