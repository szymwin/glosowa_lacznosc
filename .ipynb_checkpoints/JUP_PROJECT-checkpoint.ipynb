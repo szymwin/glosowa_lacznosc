{
 "cells": [
  {
   "cell_type": "code",
   "execution_count": 187,
   "metadata": {},
   "outputs": [],
   "source": [
    "# importing all the dependencies\n",
    "import pandas as pd # data frame\n",
    "import numpy as np # matrix math\n",
    "from glob import glob # file handling\n",
    "import librosa # audio manipulation\n",
    "from sklearn.utils import shuffle # shuffling of data\n",
    "import os # interation with the OS\n",
    "from random import sample # random selection\n",
    "from tqdm import tqdm\n",
    "from scipy import signal # audio processing\n",
    "from scipy.io import wavfile # reading the wavfile\n",
    "import matplotlib.pyplot as plt"
   ]
  },
  {
   "cell_type": "code",
   "execution_count": 186,
   "metadata": {},
   "outputs": [
    {
     "name": "stdout",
     "output_type": "stream",
     "text": [
      "Collecting matplotlib\n",
      "  Downloading matplotlib-3.2.1-cp38-cp38-macosx_10_9_x86_64.whl (12.4 MB)\n",
      "\u001b[K     |████████████████████████████████| 12.4 MB 2.5 MB/s eta 0:00:01\n",
      "\u001b[?25hRequirement already satisfied: pyparsing!=2.0.4,!=2.1.2,!=2.1.6,>=2.0.1 in /Library/Frameworks/Python.framework/Versions/3.8/lib/python3.8/site-packages (from matplotlib) (2.4.7)\n",
      "Collecting cycler>=0.10\n",
      "  Downloading cycler-0.10.0-py2.py3-none-any.whl (6.5 kB)\n",
      "Requirement already satisfied: numpy>=1.11 in /Library/Frameworks/Python.framework/Versions/3.8/lib/python3.8/site-packages (from matplotlib) (1.18.5)\n",
      "Collecting kiwisolver>=1.0.1\n",
      "  Downloading kiwisolver-1.2.0-cp38-cp38-macosx_10_9_x86_64.whl (60 kB)\n",
      "\u001b[K     |████████████████████████████████| 60 kB 9.6 MB/s  eta 0:00:01\n",
      "\u001b[?25hRequirement already satisfied: python-dateutil>=2.1 in /Library/Frameworks/Python.framework/Versions/3.8/lib/python3.8/site-packages (from matplotlib) (2.8.1)\n",
      "Requirement already satisfied: six in /Library/Frameworks/Python.framework/Versions/3.8/lib/python3.8/site-packages (from cycler>=0.10->matplotlib) (1.15.0)\n",
      "Installing collected packages: cycler, kiwisolver, matplotlib\n",
      "Successfully installed cycler-0.10.0 kiwisolver-1.2.0 matplotlib-3.2.1\n"
     ]
    }
   ],
   "source": [
    "!pip install matplotlib"
   ]
  },
  {
   "cell_type": "code",
   "execution_count": 63,
   "metadata": {},
   "outputs": [],
   "source": [
    "# fixed param\n",
    "PATH = \"./nagrania/\""
   ]
  },
  {
   "cell_type": "code",
   "execution_count": 88,
   "metadata": {},
   "outputs": [],
   "source": [
    "def load_files(path):\n",
    "    # write the complete file loading function here, this will return\n",
    "    # a dataframe having files and labels\n",
    "    # loading the files\n",
    "    train_labels = os.listdir(PATH)\n",
    "\n",
    "    labels_to_keep = ['drzwi', 'garaz', 'okno', 'otworz', 'zamknij']\n",
    "\n",
    "    train_file_labels = dict()\n",
    "    \n",
    "    for label in train_labels:\n",
    "        if label == '.DS_Store':\n",
    "            pass\n",
    "        else:\n",
    "            files = os.listdir(PATH + '/' + label)\n",
    "            for f in files:\n",
    "                if f == '.DS_Store':\n",
    "                    pass\n",
    "                else:\n",
    "                    train_file_labels[label + '/' + f] = label\n",
    "\n",
    "    train = pd.DataFrame.from_dict(train_file_labels, orient='index')\n",
    "    train = train.reset_index(drop=False)\n",
    "    train = train.rename(columns={'index': 'file', 0: 'folder'})\n",
    "    train = train[['folder', 'file']]\n",
    "    train = train.sort_values('file')\n",
    "    train = train.reset_index(drop=True)\n",
    "\n",
    "    def remove_label_from_file(label, fname):\n",
    "        return path + label + '/' + fname[len(label) + 1:]\n",
    "\n",
    "    train['file'] = train.apply(lambda x: remove_label_from_file(*x), axis=1)\n",
    "    train['label'] = train['folder'].apply(lambda x: x if x in labels_to_keep else 'unknown')\n",
    "\n",
    "    labels_to_keep.append('unknown')\n",
    "     \n",
    "    return train, labels_to_keep"
   ]
  },
  {
   "cell_type": "code",
   "execution_count": 89,
   "metadata": {},
   "outputs": [],
   "source": [
    "train_labels = os.listdir(PATH)"
   ]
  },
  {
   "cell_type": "code",
   "execution_count": 90,
   "metadata": {},
   "outputs": [],
   "source": [
    "train, labels_to_keep = load_files(PATH)\n",
    "\n",
    "# making word2id dict\n",
    "word2id = dict((c,i) for i,c in enumerate(sorted(labels_to_keep)))\n",
    "\n",
    "# get some files which will be labeled as unknown"
   ]
  },
  {
   "cell_type": "code",
   "execution_count": 189,
   "metadata": {},
   "outputs": [],
   "source": [
    "def extract_feature(path):\n",
    "    X, sample_rate = librosa.load(path)\n",
    "    stft = np.abs(librosa.stft(X))\n",
    "    mfccs = np.mean(librosa.feature.mfcc(y=X, sr=sample_rate, n_mfcc=40).T,axis=0)\n",
    "    chroma = np.mean(librosa.feature.chroma_stft(S=stft, sr=sample_rate).T,axis=0)\n",
    "    mel = np.mean(librosa.feature.melspectrogram(X, sr=sample_rate).T,axis=0)\n",
    "    contrast = np.mean(librosa.feature.spectral_contrast(S=stft, sr=sample_rate).T,axis=0)\n",
    "    tonnetz = np.mean(librosa.feature.tonnetz(y=librosa.effects.harmonic(X), sr=sample_rate).T,axis=0)\n",
    "    return mfccs,chroma,mel,contrast,tonnetz\n",
    "\n",
    "def parse_audio_files(files, word2id, unk = False):\n",
    "    # n: number of classes\n",
    "    features = np.empty((0,193))\n",
    "    one_hot = np.zeros(shape = (len(files), word2id[max(word2id)]))\n",
    "    print(one_hot.shape)\n",
    "    for i in tqdm(range(len(files))):\n",
    "        f = files[i]\n",
    "        mfccs, chroma, mel, contrast,tonnetz = extract_feature(f)\n",
    "        ext_features = np.hstack([mfccs,chroma,mel,contrast,tonnetz])\n",
    "        features = np.vstack([features,ext_features])\n",
    "        if unk == True:\n",
    "            l = word2id['unknown']\n",
    "            one_hot[i][l] = 1.\n",
    "        else:\n",
    "            l = word2id[f.split('/')[-2]]\n",
    "            one_hot[i][l] = 1.\n",
    "    return np.array(features), one_hot"
   ]
  },
  {
   "cell_type": "code",
   "execution_count": 200,
   "metadata": {},
   "outputs": [
    {
     "name": "stdout",
     "output_type": "stream",
     "text": [
      "['drzwi', 'garaz', 'okno', 'otworz', 'unknown', 'zamknij']\n"
     ]
    }
   ],
   "source": [
    "labels = sorted(labels_to_keep)\n",
    "word2id = dict((c,i) for i,c in enumerate(labels))\n",
    "label = train['label'].values\n",
    "label = [word2id[l] for l in label]\n",
    "print(labels)\n",
    "def make_one_hot(seq, n):\n",
    "    # n --> vocab size\n",
    "    seq_new = np.zeros(shape = (len(seq), n))\n",
    "    for i,s in enumerate(seq):\n",
    "        seq_new[i][s] = 1.\n",
    "    return seq_new\n",
    "one_hot_l = make_one_hot(label, 6)"
   ]
  },
  {
   "cell_type": "code",
   "execution_count": 198,
   "metadata": {},
   "outputs": [],
   "source": [
    "def log_specgram(audio, sample_rate, window_size=10,\n",
    "                 step_size=10, eps=1e-10):\n",
    "    nperseg = int(round(window_size * sample_rate / 1e3))\n",
    "    noverlap = int(round(step_size * sample_rate / 1e3))\n",
    "    _, _, spec = signal.spectrogram(audio,\n",
    "                                    fs=sample_rate,\n",
    "                                    window='hann',\n",
    "                                    nperseg=nperseg,\n",
    "                                    noverlap=noverlap,\n",
    "                                    detrend=False)\n",
    "    return np.log(spec.T.astype(np.float32) + eps)"
   ]
  },
  {
   "cell_type": "code",
   "execution_count": null,
   "metadata": {},
   "outputs": [],
   "source": [
    "log_specgram"
   ]
  },
  {
   "cell_type": "code",
   "execution_count": 199,
   "metadata": {},
   "outputs": [],
   "source": [
    "def audio_to_data(path):\n",
    "    # we take a single path and convert it into data\n",
    "    sample_rate, audio = wavfile.read(path)\n",
    "    spectrogram = log_specgram(audio, sample_rate, 10, 0)\n",
    "    return spectrogram.T\n",
    "\n",
    "def paths_to_data(paths,labels):\n",
    "    data = np.zeros(shape = (len(paths), 42035, 2, 1))\n",
    "    indexes = []\n",
    "    for i in tqdm(range(len(paths))):\n",
    "        audio = audio_to_data(paths[i])\n",
    "        if audio.shape != (42035, 2, 1):\n",
    "            indexes.append(i)\n",
    "        else:\n",
    "            data[i] = audio\n",
    "    final_labels = [l for i,l in enumerate(labels) if i not in indexes]\n",
    "    print('Number of instances with inconsistent shape:', len(indexes))\n",
    "    return data[:len(data)-len(indexes)], final_labels, indexes"
   ]
  },
  {
   "cell_type": "code",
   "execution_count": 176,
   "metadata": {},
   "outputs": [
    {
     "name": "stderr",
     "output_type": "stream",
     "text": [
      "100%|██████████| 60/60 [00:00<00:00, 95.64it/s]"
     ]
    },
    {
     "name": "stdout",
     "output_type": "stream",
     "text": [
      "Number of instances with inconsistent shape: 59\n"
     ]
    },
    {
     "name": "stderr",
     "output_type": "stream",
     "text": [
      "\n"
     ]
    }
   ],
   "source": [
    "d,l,indexes = paths_to_data(paths,one_hot_l)"
   ]
  },
  {
   "cell_type": "code",
   "execution_count": 157,
   "metadata": {},
   "outputs": [
    {
     "name": "stdout",
     "output_type": "stream",
     "text": [
      "[]\n"
     ]
    }
   ],
   "source": [
    "print(l)"
   ]
  },
  {
   "cell_type": "code",
   "execution_count": null,
   "metadata": {},
   "outputs": [],
   "source": []
  }
 ],
 "metadata": {
  "kernelspec": {
   "display_name": "Python 3",
   "language": "python",
   "name": "python3"
  },
  "language_info": {
   "codemirror_mode": {
    "name": "ipython",
    "version": 3
   },
   "file_extension": ".py",
   "mimetype": "text/x-python",
   "name": "python",
   "nbconvert_exporter": "python",
   "pygments_lexer": "ipython3",
   "version": "3.8.3"
  }
 },
 "nbformat": 4,
 "nbformat_minor": 4
}
